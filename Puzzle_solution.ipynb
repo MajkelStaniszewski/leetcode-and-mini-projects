{
  "nbformat": 4,
  "nbformat_minor": 0,
  "metadata": {
    "colab": {
      "provenance": [],
      "authorship_tag": "ABX9TyNyH2dd8eFOOoTdE+gO5D6u",
      "include_colab_link": true
    },
    "kernelspec": {
      "name": "python3",
      "display_name": "Python 3"
    },
    "language_info": {
      "name": "python"
    }
  },
  "cells": [
    {
      "cell_type": "markdown",
      "metadata": {
        "id": "view-in-github",
        "colab_type": "text"
      },
      "source": [
        "<a href=\"https://colab.research.google.com/github/MajkelStaniszewski/leetcode-and-mini-projects/blob/main/Puzzle_solution.ipynb\" target=\"_parent\"><img src=\"https://colab.research.google.com/assets/colab-badge.svg\" alt=\"Open In Colab\"/></a>"
      ]
    },
    {
      "cell_type": "code",
      "execution_count": 1,
      "metadata": {
        "id": "tmG32KI-J4dn"
      },
      "outputs": [],
      "source": [
        "import shutil"
      ]
    },
    {
      "cell_type": "code",
      "source": [
        "shutil.unpack_archive('unzip_me_for_instructions.zip','','zip')"
      ],
      "metadata": {
        "id": "W30_n63KK8Ek"
      },
      "execution_count": 3,
      "outputs": []
    },
    {
      "cell_type": "code",
      "source": [
        "with open('extracted_content/Instructions.txt') as f:\n",
        "  content = f.read()\n",
        "  print(content)"
      ],
      "metadata": {
        "colab": {
          "base_uri": "https://localhost:8080/"
        },
        "id": "9nSW0oOeLa0R",
        "outputId": "b63a1594-5294-400e-b613-88ba1e0d0220"
      },
      "execution_count": 4,
      "outputs": [
        {
          "output_type": "stream",
          "name": "stdout",
          "text": [
            "Good work on unzipping the file!\n",
            "You should now see 5 folders, each with a lot of random .txt files.\n",
            "Within one of these text files is a telephone number formated ###-###-#### \n",
            "Use the Python os module and regular expressions to iterate through each file, open it, and search for a telephone number.\n",
            "Good luck!\n"
          ]
        }
      ]
    },
    {
      "cell_type": "code",
      "source": [
        "import re\n",
        "pattern = r'\\d{3}-\\d{3}-\\d{4}'\n",
        "\n",
        "# Test\n",
        "test_string = 'here is a phone number 123-123-1244'\n",
        "re.findall(pattern,test_string)"
      ],
      "metadata": {
        "colab": {
          "base_uri": "https://localhost:8080/"
        },
        "id": "NX0j7SktMQNh",
        "outputId": "ae6d26b3-d146-4bae-8af8-adfbb2cce645"
      },
      "execution_count": 40,
      "outputs": [
        {
          "output_type": "execute_result",
          "data": {
            "text/plain": [
              "['123-123-1244']"
            ]
          },
          "metadata": {},
          "execution_count": 40
        }
      ]
    },
    {
      "cell_type": "code",
      "source": [
        "def search(file,pattern =r'\\d{3}-\\d{3}-\\d{4}'):\n",
        "  f = open(file,'r')\n",
        "  text = f.read()\n",
        "\n",
        "  if re.search(pattern,text):\n",
        "    return re.search(pattern,text)\n",
        "  else:\n",
        "    return ''"
      ],
      "metadata": {
        "id": "GPhz9WxIUbmp"
      },
      "execution_count": 48,
      "outputs": []
    },
    {
      "cell_type": "code",
      "source": [
        "import os\n",
        "os.getcwd()+'/extracted_content'"
      ],
      "metadata": {
        "colab": {
          "base_uri": "https://localhost:8080/",
          "height": 35
        },
        "id": "oARtIMu1U1CB",
        "outputId": "91d6ba56-c54e-4c6e-c35d-538770f5fa2c"
      },
      "execution_count": 54,
      "outputs": [
        {
          "output_type": "execute_result",
          "data": {
            "text/plain": [
              "'/content/extracted_content'"
            ],
            "application/vnd.google.colaboratory.intrinsic+json": {
              "type": "string"
            }
          },
          "metadata": {},
          "execution_count": 54
        }
      ]
    },
    {
      "cell_type": "code",
      "source": [
        "results = []\n",
        "for folder,sub_folders,files in os.walk(os.getcwd()+'/extracted_content'):\n",
        "\n",
        "  for f in files:\n",
        "    full_path = os.path.join(folder,f)\n",
        "    result = search(full_path, pattern =r'\\d{3}-\\d{3}-\\d{4}')\n",
        "    results.append(result)"
      ],
      "metadata": {
        "id": "zgcMYD4NOYr9"
      },
      "execution_count": 55,
      "outputs": []
    },
    {
      "cell_type": "code",
      "source": [
        "for r in results:\n",
        "  if r!= '':\n",
        "    print(r.group())"
      ],
      "metadata": {
        "colab": {
          "base_uri": "https://localhost:8080/"
        },
        "id": "Tjamoz4ePSjF",
        "outputId": "4f405f62-4940-4e8b-edf3-6e5d5944b388"
      },
      "execution_count": 56,
      "outputs": [
        {
          "output_type": "stream",
          "name": "stdout",
          "text": [
            "719-266-2837\n"
          ]
        }
      ]
    },
    {
      "cell_type": "code",
      "source": [],
      "metadata": {
        "id": "C1fpFm1BPoGY"
      },
      "execution_count": null,
      "outputs": []
    }
  ]
}