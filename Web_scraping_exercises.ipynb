{
  "nbformat": 4,
  "nbformat_minor": 0,
  "metadata": {
    "colab": {
      "provenance": [],
      "authorship_tag": "ABX9TyPRIOyHwtDv2bs6wsvNAuWF",
      "include_colab_link": true
    },
    "kernelspec": {
      "name": "python3",
      "display_name": "Python 3"
    },
    "language_info": {
      "name": "python"
    }
  },
  "cells": [
    {
      "cell_type": "markdown",
      "metadata": {
        "id": "view-in-github",
        "colab_type": "text"
      },
      "source": [
        "<a href=\"https://colab.research.google.com/github/MajkelStaniszewski/leetcode-and-mini-projects/blob/main/Web_scraping_exercises.ipynb\" target=\"_parent\"><img src=\"https://colab.research.google.com/assets/colab-badge.svg\" alt=\"Open In Colab\"/></a>"
      ]
    },
    {
      "cell_type": "markdown",
      "source": [],
      "metadata": {
        "id": "EoFvdViYxC11"
      }
    },
    {
      "cell_type": "markdown",
      "source": [
        "### Introductionary tasks\n",
        "Get tittle of every book with a 2 star rating"
      ],
      "metadata": {
        "id": "_7KU04Osw5He"
      }
    },
    {
      "cell_type": "code",
      "source": [
        "import requests\n",
        "import bs4"
      ],
      "metadata": {
        "id": "1i-KP6cYZIgc"
      },
      "execution_count": 3,
      "outputs": []
    },
    {
      "cell_type": "code",
      "source": [
        "base_url = 'https://books.toscrape.com/catalogue/page-{}.html'"
      ],
      "metadata": {
        "id": "ZtjfHU5dZKyz"
      },
      "execution_count": 4,
      "outputs": []
    },
    {
      "cell_type": "code",
      "source": [
        "res = requests.get(base_url.format(1))\n",
        "soup = bs4.BeautifulSoup(res.text,'lxml')\n",
        "len(soup.select('.product_pod'))"
      ],
      "metadata": {
        "colab": {
          "base_uri": "https://localhost:8080/"
        },
        "id": "Pf3yDEB9Zn14",
        "outputId": "b8920aab-78fe-4ad1-e713-380f0d884f04"
      },
      "execution_count": 15,
      "outputs": [
        {
          "output_type": "execute_result",
          "data": {
            "text/plain": [
              "20"
            ]
          },
          "metadata": {},
          "execution_count": 15
        }
      ]
    },
    {
      "cell_type": "code",
      "source": [
        "products = soup.select('.product_pod')\n",
        "example = products[0]\n",
        "example"
      ],
      "metadata": {
        "colab": {
          "base_uri": "https://localhost:8080/"
        },
        "id": "4oV8RIwVa7-T",
        "outputId": "50044bf6-982e-469c-d15a-a3665181b6e3"
      },
      "execution_count": 18,
      "outputs": [
        {
          "output_type": "execute_result",
          "data": {
            "text/plain": [
              "<article class=\"product_pod\">\n",
              "<div class=\"image_container\">\n",
              "<a href=\"a-light-in-the-attic_1000/index.html\"><img alt=\"A Light in the Attic\" class=\"thumbnail\" src=\"../media/cache/2c/da/2cdad67c44b002e7ead0cc35693c0e8b.jpg\"/></a>\n",
              "</div>\n",
              "<p class=\"star-rating Three\">\n",
              "<i class=\"icon-star\"></i>\n",
              "<i class=\"icon-star\"></i>\n",
              "<i class=\"icon-star\"></i>\n",
              "<i class=\"icon-star\"></i>\n",
              "<i class=\"icon-star\"></i>\n",
              "</p>\n",
              "<h3><a href=\"a-light-in-the-attic_1000/index.html\" title=\"A Light in the Attic\">A Light in the ...</a></h3>\n",
              "<div class=\"product_price\">\n",
              "<p class=\"price_color\">Â£51.77</p>\n",
              "<p class=\"instock availability\">\n",
              "<i class=\"icon-ok\"></i>\n",
              "    \n",
              "        In stock\n",
              "    \n",
              "</p>\n",
              "<form>\n",
              "<button class=\"btn btn-primary btn-block\" data-loading-text=\"Adding...\" type=\"submit\">Add to basket</button>\n",
              "</form>\n",
              "</div>\n",
              "</article>"
            ]
          },
          "metadata": {},
          "execution_count": 18
        }
      ]
    },
    {
      "cell_type": "code",
      "source": [
        "# Dirty way\n",
        "'star-rating Three' in str(example)"
      ],
      "metadata": {
        "colab": {
          "base_uri": "https://localhost:8080/"
        },
        "id": "LNqasuazgYTo",
        "outputId": "0e789eae-f317-4a06-dca1-726966a92306"
      },
      "execution_count": 20,
      "outputs": [
        {
          "output_type": "execute_result",
          "data": {
            "text/plain": [
              "True"
            ]
          },
          "metadata": {},
          "execution_count": 20
        }
      ]
    },
    {
      "cell_type": "code",
      "source": [
        "# Less dirty way\n",
        "\n",
        "example.select(\".star-rating.Three\") # If space appears use \".\""
      ],
      "metadata": {
        "colab": {
          "base_uri": "https://localhost:8080/"
        },
        "id": "0lQ5ZkJPg3rL",
        "outputId": "f11e52b7-f08d-42ef-f049-d2aaa75accf2"
      },
      "execution_count": 23,
      "outputs": [
        {
          "output_type": "execute_result",
          "data": {
            "text/plain": [
              "[<p class=\"star-rating Three\">\n",
              " <i class=\"icon-star\"></i>\n",
              " <i class=\"icon-star\"></i>\n",
              " <i class=\"icon-star\"></i>\n",
              " <i class=\"icon-star\"></i>\n",
              " <i class=\"icon-star\"></i>\n",
              " </p>]"
            ]
          },
          "metadata": {},
          "execution_count": 23
        }
      ]
    },
    {
      "cell_type": "code",
      "source": [
        "example.select(\".star-rating.Two\") == []"
      ],
      "metadata": {
        "colab": {
          "base_uri": "https://localhost:8080/"
        },
        "id": "kmYMNhqphJeF",
        "outputId": "4f78f6c1-d2e1-4002-8e8e-46bb8f8190df"
      },
      "execution_count": 25,
      "outputs": [
        {
          "output_type": "execute_result",
          "data": {
            "text/plain": [
              "True"
            ]
          },
          "metadata": {},
          "execution_count": 25
        }
      ]
    },
    {
      "cell_type": "code",
      "source": [
        "example.select('a')[1]['title']"
      ],
      "metadata": {
        "colab": {
          "base_uri": "https://localhost:8080/",
          "height": 36
        },
        "id": "14i2eev_hjxc",
        "outputId": "c50a1c5a-4b5f-44d1-fdf8-eb8636567200"
      },
      "execution_count": 32,
      "outputs": [
        {
          "output_type": "execute_result",
          "data": {
            "text/plain": [
              "'A Light in the Attic'"
            ],
            "application/vnd.google.colaboratory.intrinsic+json": {
              "type": "string"
            }
          },
          "metadata": {},
          "execution_count": 32
        }
      ]
    },
    {
      "cell_type": "code",
      "source": [
        "# We can check if somthing is 2 starts (string call in, example.select(rating))\n",
        "# example.select('a)[1]['title] to grab the book title"
      ],
      "metadata": {
        "colab": {
          "base_uri": "https://localhost:8080/"
        },
        "id": "gw25tHfdpI8y",
        "outputId": "34c73e99-7f83-4098-92fc-c6d7eca8bfd7"
      },
      "execution_count": 33,
      "outputs": [
        {
          "output_type": "execute_result",
          "data": {
            "text/plain": [
              "<a href=\"a-light-in-the-attic_1000/index.html\" title=\"A Light in the Attic\">A Light in the ...</a>"
            ]
          },
          "metadata": {},
          "execution_count": 33
        }
      ]
    },
    {
      "cell_type": "code",
      "source": [
        "two_star_titile = []\n",
        "\n",
        "for n in range(1,51):\n",
        "  scrape_url = base_url.format(n)\n",
        "  res = requests.get(scrape_url)\n",
        "\n",
        "  soup = bs4.BeautifulSoup(res.text,'lxml')\n",
        "  books = soup.select('.product_pod')\n",
        "\n",
        "  for book in books:\n",
        "    # if 'star-rating Two' in str(book)\n",
        "    if len(book.select('.star-rating.Two')) != 0:\n",
        "     book_title = book.select('a')[1]['title']\n",
        "     two_star_titile.append(book_title)\n",
        "\n",
        "two_star_titile\n"
      ],
      "metadata": {
        "colab": {
          "base_uri": "https://localhost:8080/"
        },
        "id": "sV3l5kAHrxT9",
        "outputId": "ad4994da-317e-452e-e87a-6e25868f90e1"
      },
      "execution_count": 57,
      "outputs": [
        {
          "output_type": "execute_result",
          "data": {
            "text/plain": [
              "['Starving Hearts (Triangular Trade Trilogy, #1)',\n",
              " 'Libertarianism for Beginners',\n",
              " \"It's Only the Himalayas\",\n",
              " 'How Music Works',\n",
              " 'Maude (1883-1993):She Grew Up with the country',\n",
              " \"You can't bury them all: Poems\",\n",
              " 'Reasons to Stay Alive',\n",
              " 'Without Borders (Wanderlove #1)',\n",
              " 'Soul Reader',\n",
              " 'Security',\n",
              " 'Saga, Volume 5 (Saga (Collected Editions) #5)',\n",
              " 'Reskilling America: Learning to Labor in the Twenty-First Century',\n",
              " 'Political Suicide: Missteps, Peccadilloes, Bad Calls, Backroom Hijinx, Sordid Pasts, Rotten Breaks, and Just Plain Dumb Mistakes in the Annals of American Politics',\n",
              " 'Obsidian (Lux #1)',\n",
              " 'My Paris Kitchen: Recipes and Stories',\n",
              " 'Masks and Shadows',\n",
              " 'Lumberjanes, Vol. 2: Friendship to the Max (Lumberjanes #5-8)',\n",
              " 'Lumberjanes Vol. 3: A Terrible Plan (Lumberjanes #9-12)',\n",
              " 'Judo: Seven Steps to Black Belt (an Introductory Guide for Beginners)',\n",
              " 'I Hate Fairyland, Vol. 1: Madly Ever After (I Hate Fairyland (Compilations) #1-5)',\n",
              " 'Giant Days, Vol. 2 (Giant Days #5-8)',\n",
              " 'Everydata: The Misinformation Hidden in the Little Data You Consume Every Day',\n",
              " \"Don't Be a Jerk: And Other Practical Advice from Dogen, Japan's Greatest Zen Master\",\n",
              " 'Bossypants',\n",
              " 'Bitch Planet, Vol. 1: Extraordinary Machine (Bitch Planet (Collected Editions))',\n",
              " 'Avatar: The Last Airbender: Smoke and Shadow, Part 3 (Smoke and Shadow #3)',\n",
              " 'Tuesday Nights in 1980',\n",
              " 'The Psychopath Test: A Journey Through the Madness Industry',\n",
              " 'The Power of Now: A Guide to Spiritual Enlightenment',\n",
              " \"The Omnivore's Dilemma: A Natural History of Four Meals\",\n",
              " 'The Love and Lemons Cookbook: An Apple-to-Zucchini Celebration of Impromptu Cooking',\n",
              " 'The Girl on the Train',\n",
              " 'The Emerald Mystery',\n",
              " 'The Argonauts',\n",
              " 'Suddenly in Love (Lake Haven #1)',\n",
              " 'Soft Apocalypse',\n",
              " \"So You've Been Publicly Shamed\",\n",
              " 'Shoe Dog: A Memoir by the Creator of NIKE',\n",
              " 'Louisa: The Extraordinary Life of Mrs. Adams',\n",
              " 'Large Print Heart of the Pride',\n",
              " 'Grumbles',\n",
              " 'Chasing Heaven: What Dying Taught Me About Living',\n",
              " 'Becoming Wise: An Inquiry into the Mystery and Art of Living',\n",
              " 'Beauty Restored (Riley Family Legacy Novellas #3)',\n",
              " 'Batman: The Long Halloween (Batman)',\n",
              " \"Ayumi's Violin\",\n",
              " 'Wild Swans',\n",
              " \"What's It Like in Space?: Stories from Astronauts Who've Been There\",\n",
              " 'Until Friday Night (The Field Party #1)',\n",
              " 'Unbroken: A World War II Story of Survival, Resilience, and Redemption',\n",
              " 'Twenty Yawns',\n",
              " 'Through the Woods',\n",
              " 'This Is Where It Ends',\n",
              " 'The Year of Magical Thinking',\n",
              " 'The Last Mile (Amos Decker #2)',\n",
              " 'The Immortal Life of Henrietta Lacks',\n",
              " 'The Hidden Oracle (The Trials of Apollo #1)',\n",
              " 'The Guilty (Will Robie #4)',\n",
              " 'Red Hood/Arsenal, Vol. 1: Open for Business (Red Hood/Arsenal #1)',\n",
              " 'Once Was a Time',\n",
              " 'No Dream Is Too High: Life Lessons From a Man Who Walked on the Moon',\n",
              " 'Naruto (3-in-1 Edition), Vol. 14: Includes Vols. 40, 41 & 42 (Naruto: Omnibus #14)',\n",
              " 'More Than Music (Chasing the Dream #1)',\n",
              " 'Lowriders to the Center of the Earth (Lowriders in Space #2)',\n",
              " 'Eat Fat, Get Thin',\n",
              " 'Doctor Sleep (The Shining #2)',\n",
              " 'Crazy Love: Overwhelmed by a Relentless God',\n",
              " 'Carrie',\n",
              " 'Batman: Europa',\n",
              " 'Angels Walking (Angels Walking #1)',\n",
              " 'Adulthood Is a Myth: A \"Sarah\\'s Scribbles\" Collection',\n",
              " 'A Study in Scarlet (Sherlock Holmes #1)',\n",
              " 'A Series of Catastrophes and Miracles: A True Story of Love, Science, and Cancer',\n",
              " \"A People's History of the United States\",\n",
              " 'My Kitchen Year: 136 Recipes That Saved My Life',\n",
              " 'The Lonely City: Adventures in the Art of Being Alone',\n",
              " 'The Dinner Party',\n",
              " 'Stars Above (The Lunar Chronicles #4.5)',\n",
              " 'Love, Lies and Spies',\n",
              " 'Troublemaker: Surviving Hollywood and Scientology',\n",
              " 'The Widow',\n",
              " 'Setting the World on Fire: The Brief, Astonishing Life of St. Catherine of Siena',\n",
              " 'Mothering Sunday',\n",
              " 'Lilac Girls',\n",
              " '10% Happier: How I Tamed the Voice in My Head, Reduced Stress Without Losing My Edge, and Found Self-Help That Actually Works',\n",
              " 'Underlying Notes',\n",
              " 'The Flowers Lied',\n",
              " 'Modern Day Fables',\n",
              " \"Chernobyl 01:23:40: The Incredible True Story of the World's Worst Nuclear Disaster\",\n",
              " '23 Degrees South: A Tropical Tale of Changing Whether...',\n",
              " 'When Breath Becomes Air',\n",
              " 'Vagabonding: An Uncommon Guide to the Art of Long-Term World Travel',\n",
              " 'The Martian (The Martian #1)',\n",
              " \"Miller's Valley\",\n",
              " \"Love That Boy: What Two Presidents, Eight Road Trips, and My Son Taught Me About a Parent's Expectations\",\n",
              " 'Left Behind (Left Behind #1)',\n",
              " 'Howl and Other Poems',\n",
              " \"Heaven is for Real: A Little Boy's Astounding Story of His Trip to Heaven and Back\",\n",
              " \"Brazen: The Courage to Find the You That's Been Hiding\",\n",
              " '32 Yolks',\n",
              " 'Wildlife of New York: A Five-Borough Coloring Book',\n",
              " 'Unreasonable Hope: Finding Faith in the God Who Brings Purpose to Your Pain',\n",
              " 'The Art Book',\n",
              " 'Steal Like an Artist: 10 Things Nobody Told You About Being Creative',\n",
              " 'Raymie Nightingale',\n",
              " 'Like Never Before (Walker Family #2)',\n",
              " 'How to Be a Domestic Goddess: Baking and the Art of Comfort Cooking',\n",
              " 'Finding God in the Ruins: How God Redeems Pain',\n",
              " 'Chronicles, Vol. 1',\n",
              " 'A Summer In Europe',\n",
              " 'The Rise and Fall of the Third Reich: A History of Nazi Germany',\n",
              " 'The Makings of a Fatherless Child',\n",
              " 'The Fellowship of the Ring (The Lord of the Rings #1)',\n",
              " \"Tell the Wolves I'm Home\",\n",
              " 'In the Woods (Dublin Murder Squad #1)',\n",
              " 'Give It Back',\n",
              " 'Why Save the Bankers?: And Other Essays on Our Economic and Political Crisis',\n",
              " 'The Raven King (The Raven Cycle #4)',\n",
              " 'The Expatriates',\n",
              " 'The 5th Wave (The 5th Wave #1)',\n",
              " 'Peak: Secrets from the New Science of Expertise',\n",
              " 'Logan Kade (Fallen Crest High #5.5)',\n",
              " \"I Know Why the Caged Bird Sings (Maya Angelou's Autobiography #1)\",\n",
              " 'Drama',\n",
              " \"America's War for the Greater Middle East: A Military History\",\n",
              " 'A Game of Thrones (A Song of Ice and Fire #1)',\n",
              " \"The Pilgrim's Progress\",\n",
              " 'The Hound of the Baskervilles (Sherlock Holmes #5)',\n",
              " \"The Geography of Bliss: One Grump's Search for the Happiest Places in the World\",\n",
              " 'The Demonists (Demonist #1)',\n",
              " 'The Demon Prince of Momochi House, Vol. 4 (The Demon Prince of Momochi House #4)',\n",
              " 'Misery',\n",
              " 'Far From True (Promise Falls Trilogy #2)',\n",
              " 'Confessions of a Shopaholic (Shopaholic #1)',\n",
              " 'Vegan Vegetarian Omnivore: Dinner for Everyone at the Table',\n",
              " 'Two Boys Kissing',\n",
              " 'Twilight (Twilight #1)',\n",
              " 'Twenties Girl',\n",
              " 'The Tipping Point: How Little Things Can Make a Big Difference',\n",
              " 'The Stand',\n",
              " 'The Picture of Dorian Gray',\n",
              " 'The Name of God is Mercy',\n",
              " \"The Lover's Dictionary\",\n",
              " 'The Last Painting of Sara de Vos',\n",
              " 'The Guns of August',\n",
              " 'The Girl Who Played with Fire (Millennium Trilogy #2)',\n",
              " 'The Da Vinci Code (Robert Langdon #2)',\n",
              " 'The Cat in the Hat (Beginner Books B-1)',\n",
              " 'The Book Thief',\n",
              " 'The Autobiography of Malcolm X',\n",
              " \"Surely You're Joking, Mr. Feynman!: Adventures of a Curious Character\",\n",
              " 'Soldier (Talon #3)',\n",
              " 'Shopaholic & Baby (Shopaholic #5)',\n",
              " 'Seven Days in the Art World',\n",
              " 'Rework',\n",
              " 'Packing for Mars: The Curious Science of Life in the Void',\n",
              " 'Orange Is the New Black',\n",
              " 'One for the Money (Stephanie Plum #1)',\n",
              " 'Midnight Riot (Peter Grant/ Rivers of London - books #1)',\n",
              " 'Me Talk Pretty One Day',\n",
              " 'Manuscript Found in Accra',\n",
              " 'Lust & Wonder',\n",
              " \"Life, the Universe and Everything (Hitchhiker's Guide to the Galaxy #3)\",\n",
              " 'Life After Life',\n",
              " 'I Am Malala: The Girl Who Stood Up for Education and Was Shot by the Taliban',\n",
              " 'House of Lost Worlds: Dinosaurs, Dynasties, and the Story of Life on Earth',\n",
              " 'Horrible Bear!',\n",
              " 'Holidays on Ice',\n",
              " 'Girl in the Blue Coat',\n",
              " 'Fruits Basket, Vol. 3 (Fruits Basket #3)',\n",
              " 'Cosmos',\n",
              " 'Civilization and Its Discontents',\n",
              " \"Catastrophic Happiness: Finding Joy in Childhood's Messy Years\",\n",
              " 'Career of Evil (Cormoran Strike #3)',\n",
              " 'Born to Run: A Hidden Tribe, Superathletes, and the Greatest Race the World Has Never Seen',\n",
              " \"Best of My Love (Fool's Gold #20)\",\n",
              " 'Beowulf',\n",
              " 'Awkward',\n",
              " 'And Then There Were None',\n",
              " 'A Storm of Swords (A Song of Ice and Fire #3)',\n",
              " 'The Suffragettes (Little Black Classics, #96)',\n",
              " 'Vampire Girl (Vampire Girl #1)',\n",
              " 'Three Wishes (River of Time: California #1)',\n",
              " 'The Wicked + The Divine, Vol. 1: The Faust Act (The Wicked + The Divine)',\n",
              " 'The Little Prince',\n",
              " 'The Last Girl (The Dominion Trilogy #1)',\n",
              " 'Taking Shots (Assassins #1)',\n",
              " 'Settling the Score (The Summer Games #1)',\n",
              " 'Rhythm, Chord & Malykhin',\n",
              " 'One Second (Seven #7)',\n",
              " \"Old Records Never Die: One Man's Quest for His Vinyl and His Past\",\n",
              " 'Of Mice and Men',\n",
              " 'My Perfect Mistake (Over the Top #1)',\n",
              " 'Meditations',\n",
              " 'Frankenstein',\n",
              " 'Emma']"
            ]
          },
          "metadata": {},
          "execution_count": 57
        }
      ]
    },
    {
      "cell_type": "markdown",
      "source": [
        "### Web Scraping Exercises"
      ],
      "metadata": {
        "id": "otu9zHGDzFMv"
      }
    },
    {
      "cell_type": "code",
      "source": [],
      "metadata": {
        "id": "0s1ZXNoX2hP6"
      },
      "execution_count": null,
      "outputs": []
    },
    {
      "cell_type": "code",
      "source": [
        "# TASK: Use requests library and BeautifulSoup to connect to http://quotes.toscrape.com/\n",
        "# and get the HMTL text from the homepage.\n",
        "\n"
      ],
      "metadata": {
        "id": "8ZDhUg83zILW"
      },
      "execution_count": null,
      "outputs": []
    },
    {
      "cell_type": "code",
      "source": [
        "# TASK: Get the names of all the authors on the first page.\n",
        "res = requests.get('http://quotes.toscrape.com')\n",
        "soup = bs4.BeautifulSoup(res.text,'lxml')\n",
        "# soup.select('.author')\n",
        "\n",
        "authors = set()\n",
        "\n",
        "for name in soup.select('.author'):\n",
        "  authors.add(name.text)\n",
        "\n",
        "authors"
      ],
      "metadata": {
        "colab": {
          "base_uri": "https://localhost:8080/"
        },
        "id": "M-t0R_HzzSFX",
        "outputId": "42cf360e-bbcc-40c3-e50a-6f114b9c69f7"
      },
      "execution_count": 68,
      "outputs": [
        {
          "output_type": "execute_result",
          "data": {
            "text/plain": [
              "{'Albert Einstein',\n",
              " 'André Gide',\n",
              " 'Eleanor Roosevelt',\n",
              " 'J.K. Rowling',\n",
              " 'Jane Austen',\n",
              " 'Marilyn Monroe',\n",
              " 'Steve Martin',\n",
              " 'Thomas A. Edison'}"
            ]
          },
          "metadata": {},
          "execution_count": 68
        }
      ]
    },
    {
      "cell_type": "code",
      "source": [
        "# TASK: Create a list of all the quotes on the first page.\n",
        "all_quotes = set()\n",
        "quotes= soup.select('.text')\n",
        "\n",
        "for quote in quotes:\n",
        "  all_quotes.add(quote.text)\n",
        "\n",
        "all_quotes\n"
      ],
      "metadata": {
        "colab": {
          "base_uri": "https://localhost:8080/"
        },
        "id": "YNonKLduzUrm",
        "outputId": "b7db0ff6-01c7-48b7-e256-2e57ad7ad67b"
      },
      "execution_count": 74,
      "outputs": [
        {
          "output_type": "execute_result",
          "data": {
            "text/plain": [
              "{'“A day without sunshine is like, you know, night.”',\n",
              " \"“A woman is like a tea bag; you never know how strong it is until it's in hot water.”\",\n",
              " \"“I have not failed. I've just found 10,000 ways that won't work.”\",\n",
              " \"“Imperfection is beauty, madness is genius and it's better to be absolutely ridiculous than absolutely boring.”\",\n",
              " '“It is better to be hated for what you are than to be loved for what you are not.”',\n",
              " '“It is our choices, Harry, that show what we truly are, far more than our abilities.”',\n",
              " '“The person, be it gentleman or lady, who has not pleasure in a good novel, must be intolerably stupid.”',\n",
              " '“The world as we have created it is a process of our thinking. It cannot be changed without changing our thinking.”',\n",
              " '“There are only two ways to live your life. One is as though nothing is a miracle. The other is as though everything is a miracle.”',\n",
              " '“Try not to become a man of success. Rather become a man of value.”'}"
            ]
          },
          "metadata": {},
          "execution_count": 74
        }
      ]
    },
    {
      "cell_type": "code",
      "source": [
        "# TASK: Inspect the site and use Beautiful Soup to extract the top ten tags\n",
        "# from the requests text shown on the top right from the home page\n",
        "# (e.g Love,Inspirational,Life, etc...). HINT: Keep in mind there are also tags underneath each quote, try to find a class only present in the top right tags, perhaps check the span.\n",
        "\n",
        "for item in soup.select('.tag-item'):\n",
        "  print(item.text)\n"
      ],
      "metadata": {
        "colab": {
          "base_uri": "https://localhost:8080/"
        },
        "id": "6lyqzwUAzXEn",
        "outputId": "41156b40-2dd3-41a2-eb88-1268788b765e"
      },
      "execution_count": 82,
      "outputs": [
        {
          "output_type": "stream",
          "name": "stdout",
          "text": [
            "\n",
            "love\n",
            "\n",
            "\n",
            "inspirational\n",
            "\n",
            "\n",
            "life\n",
            "\n",
            "\n",
            "humor\n",
            "\n",
            "\n",
            "books\n",
            "\n",
            "\n",
            "reading\n",
            "\n",
            "\n",
            "friendship\n",
            "\n",
            "\n",
            "friends\n",
            "\n",
            "\n",
            "truth\n",
            "\n",
            "\n",
            "simile\n",
            "\n"
          ]
        }
      ]
    },
    {
      "cell_type": "code",
      "source": [
        "# TASK: Notice how there is more than one page, and subsequent pages look like this http://quotes.toscrape.com/page/2/.\n",
        "# Use what you know about for loops and string concatenation to loop through all the pages and get all the unique authors on the website.\n",
        "# Keep in mind there are many ways to achieve this, also note that you will need to somehow figure out how to check that your loop is on the last page with quotes.\n",
        "# For debugging purposes, I will let you know that there are only 10 pages, so the last page is http://quotes.toscrape.com/page/10/, but try to create a loop that is robust enough\n",
        "# that it wouldn't matter to know the amount of pages beforehand, perhaps use try/except for this, its up to you!\n",
        "\n",
        "url = 'http://quotes.toscrape.com/page/'"
      ],
      "metadata": {
        "colab": {
          "base_uri": "https://localhost:8080/",
          "height": 36
        },
        "id": "y63iSU-Vzee-",
        "outputId": "b29b1633-3c54-4698-d4bf-a4a3d0d30e5d"
      },
      "execution_count": 83,
      "outputs": [
        {
          "output_type": "execute_result",
          "data": {
            "text/plain": [
              "'http://quotes.toscrape.com/page/10'"
            ],
            "application/vnd.google.colaboratory.intrinsic+json": {
              "type": "string"
            }
          },
          "metadata": {},
          "execution_count": 83
        }
      ]
    },
    {
      "cell_type": "code",
      "source": [
        "authors = set()\n",
        "\n",
        "for page in range(1,10):\n",
        "  page_url = url + str(page)\n",
        "  res = requests.get(page_url)\n",
        "  soup = bs4.BeautifulSoup(res.text,'lxml')\n",
        "\n",
        "  for name in soup.select('.author'):\n",
        "    authors.add(name.text)\n",
        "\n",
        "authors"
      ],
      "metadata": {
        "colab": {
          "base_uri": "https://localhost:8080/"
        },
        "id": "YVIx_Jq2-cGU",
        "outputId": "6f88800d-9ac1-4260-a143-d50ece4dfdde"
      },
      "execution_count": 87,
      "outputs": [
        {
          "output_type": "execute_result",
          "data": {
            "text/plain": [
              "{'Albert Einstein',\n",
              " 'Alexandre Dumas fils',\n",
              " 'Alfred Tennyson',\n",
              " 'Allen Saunders',\n",
              " 'André Gide',\n",
              " 'Ayn Rand',\n",
              " 'Bob Marley',\n",
              " 'C.S. Lewis',\n",
              " 'Charles Bukowski',\n",
              " 'Charles M. Schulz',\n",
              " 'Douglas Adams',\n",
              " 'Dr. Seuss',\n",
              " 'Eleanor Roosevelt',\n",
              " 'Elie Wiesel',\n",
              " 'Ernest Hemingway',\n",
              " 'Friedrich Nietzsche',\n",
              " 'Garrison Keillor',\n",
              " 'George Bernard Shaw',\n",
              " 'George Carlin',\n",
              " 'George Eliot',\n",
              " 'George R.R. Martin',\n",
              " 'Haruki Murakami',\n",
              " 'Helen Keller',\n",
              " 'J.D. Salinger',\n",
              " 'J.K. Rowling',\n",
              " 'J.R.R. Tolkien',\n",
              " 'James Baldwin',\n",
              " 'Jane Austen',\n",
              " 'Jim Henson',\n",
              " 'John Lennon',\n",
              " 'Jorge Luis Borges',\n",
              " 'Marilyn Monroe',\n",
              " 'Mark Twain',\n",
              " 'Martin Luther King Jr.',\n",
              " 'Mother Teresa',\n",
              " 'Pablo Neruda',\n",
              " 'Ralph Waldo Emerson',\n",
              " 'Stephenie Meyer',\n",
              " 'Steve Martin',\n",
              " 'Suzanne Collins',\n",
              " 'Terry Pratchett',\n",
              " 'Thomas A. Edison',\n",
              " 'W.C. Fields',\n",
              " 'William Nicholson'}"
            ]
          },
          "metadata": {},
          "execution_count": 87
        }
      ]
    },
    {
      "cell_type": "code",
      "source": [],
      "metadata": {
        "id": "2rWIluXj_Bar"
      },
      "execution_count": 87,
      "outputs": []
    },
    {
      "cell_type": "code",
      "source": [],
      "metadata": {
        "id": "rDgF6JT9_b58"
      },
      "execution_count": null,
      "outputs": []
    }
  ]
}