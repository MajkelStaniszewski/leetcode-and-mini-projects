{
  "nbformat": 4,
  "nbformat_minor": 0,
  "metadata": {
    "colab": {
      "provenance": [],
      "authorship_tag": "ABX9TyPu/tyf/5LQGOyEtvsG1L3d",
      "include_colab_link": true
    },
    "kernelspec": {
      "name": "python3",
      "display_name": "Python 3"
    },
    "language_info": {
      "name": "python"
    }
  },
  "cells": [
    {
      "cell_type": "markdown",
      "metadata": {
        "id": "view-in-github",
        "colab_type": "text"
      },
      "source": [
        "<a href=\"https://colab.research.google.com/github/MajkelStaniszewski/leetcode-and-mini-projects/blob/main/VendingMachine.ipynb\" target=\"_parent\"><img src=\"https://colab.research.google.com/assets/colab-badge.svg\" alt=\"Open In Colab\"/></a>"
      ]
    },
    {
      "cell_type": "code",
      "execution_count": 1,
      "metadata": {
        "colab": {
          "base_uri": "https://localhost:8080/"
        },
        "id": "iaFWAo0KuUHU",
        "outputId": "49bbada1-e186-4940-dfd6-a76a106af16d"
      },
      "outputs": [
        {
          "output_type": "stream",
          "name": "stdout",
          "text": [
            "Inserted 5kr\n",
            "Inserted 10kr\n",
            "Dispensed tea\n",
            "Inserted 20kr\n",
            "Dispensed chocolate\n"
          ]
        },
        {
          "output_type": "execute_result",
          "data": {
            "text/plain": [
              "0"
            ]
          },
          "metadata": {},
          "execution_count": 1
        }
      ],
      "source": [
        "class VendingMachine:\n",
        "    def __init__(self):\n",
        "        # Initial state is '0' with no money inserted\n",
        "        self.state = '0'\n",
        "        # Maps to store transitions and the corresponding actions\n",
        "        self.transitions = {\n",
        "            '0': {'5kr': '5', '10kr': '10', '20kr': '20'},\n",
        "            '5': {'5kr': '10', '10kr': '15', 'tea': '0'},\n",
        "            '10': {'5kr': '15', 'coffee': '0'},\n",
        "            '15': {'tea': '0', 'coffee': '0', 'chocolate': '0'},\n",
        "            '20': {'chocolate': '0'}\n",
        "        }\n",
        "        # Output messages for the actions\n",
        "        self.actions = {\n",
        "            '5kr': lambda: print(\"Inserted 5kr\"),\n",
        "            '10kr': lambda: print(\"Inserted 10kr\"),\n",
        "            '20kr': lambda: print(\"Inserted 20kr\"),\n",
        "            'tea': lambda: print(\"Dispensed tea\"),\n",
        "            'coffee': lambda: print(\"Dispensed coffee\"),\n",
        "            'chocolate': lambda: print(\"Dispensed chocolate\"),\n",
        "            'error': lambda: print(\"Error: Invalid operation\")\n",
        "        }\n",
        "        # This will hold the total money inserted\n",
        "        self.total_inserted = 0\n",
        "\n",
        "    def insert_coin(self, coin):\n",
        "        # This method handles the coin insertion\n",
        "        if coin in self.transitions[self.state]:\n",
        "            self.actions[coin]()\n",
        "            self.total_inserted += int(coin.replace('kr', ''))\n",
        "            self.state = self.transitions[self.state][coin]\n",
        "        else:\n",
        "            self.actions['error']()\n",
        "\n",
        "    def select_product(self, product):\n",
        "        # This method handles the product selection\n",
        "        if product in self.transitions[self.state]:\n",
        "            self.actions[product]()\n",
        "            self.state = self.transitions[self.state][product]\n",
        "            self.total_inserted = 0\n",
        "        else:\n",
        "            self.actions['error']()\n",
        "\n",
        "    def get_total_inserted(self):\n",
        "        # Method to get the total money inserted\n",
        "        return self.total_inserted\n",
        "\n",
        "# Testing the vending machine\n",
        "vending_machine = VendingMachine()\n",
        "\n",
        "# Simulate some operations\n",
        "vending_machine.insert_coin('5kr')\n",
        "vending_machine.insert_coin('10kr')\n",
        "vending_machine.select_product('tea')\n",
        "\n",
        "# Now the vending machine should be in state '0', and we can try to buy chocolate with a 20kr coin\n",
        "vending_machine.insert_coin('20kr')\n",
        "vending_machine.select_product('chocolate')\n",
        "\n",
        "# Get the total inserted amount (should be 0 since we bought something)\n",
        "total_inserted = vending_machine.get_total_inserted()\n",
        "total_inserted\n"
      ]
    }
  ]
}